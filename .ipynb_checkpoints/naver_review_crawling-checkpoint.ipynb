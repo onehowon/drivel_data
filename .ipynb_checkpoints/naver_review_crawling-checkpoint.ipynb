{
 "cells": [
  {
   "cell_type": "markdown",
   "id": "c950f40f",
   "metadata": {
    "id": "c950f40f"
   },
   "source": [
    "##### Client ID: 3oD0uj_aMKUIuWq_4Upa\n",
    "##### Client Secret:ntRpgWRH2a"
   ]
  },
  {
   "cell_type": "code",
   "execution_count": null,
   "id": "2c0b0032",
   "metadata": {
    "colab": {
     "base_uri": "https://localhost:8080/"
    },
    "id": "2c0b0032",
    "outputId": "4cb8f3f7-0ff9-4222-a8db-b6a755f98605"
   },
   "outputs": [
    {
     "name": "stdout",
     "output_type": "stream",
     "text": [
      "Requirement already satisfied: selenium in c:\\users\\82102\\anaconda3\\lib\\site-packages (4.8.2)\n",
      "Requirement already satisfied: certifi>=2021.10.8 in c:\\users\\82102\\anaconda3\\lib\\site-packages (from selenium) (2022.9.14)\n",
      "Requirement already satisfied: trio-websocket~=0.9 in c:\\users\\82102\\anaconda3\\lib\\site-packages (from selenium) (0.9.2)\n",
      "Requirement already satisfied: trio~=0.17 in c:\\users\\82102\\anaconda3\\lib\\site-packages (from selenium) (0.22.0)\n",
      "Requirement already satisfied: urllib3[socks]~=1.26 in c:\\users\\82102\\anaconda3\\lib\\site-packages (from selenium) (1.26.11)\n",
      "Requirement already satisfied: attrs>=19.2.0 in c:\\users\\82102\\anaconda3\\lib\\site-packages (from trio~=0.17->selenium) (21.4.0)\n",
      "Requirement already satisfied: cffi>=1.14 in c:\\users\\82102\\anaconda3\\lib\\site-packages (from trio~=0.17->selenium) (1.15.1)\n",
      "Requirement already satisfied: async-generator>=1.9 in c:\\users\\82102\\anaconda3\\lib\\site-packages (from trio~=0.17->selenium) (1.10)\n",
      "Requirement already satisfied: sortedcontainers in c:\\users\\82102\\anaconda3\\lib\\site-packages (from trio~=0.17->selenium) (2.4.0)\n",
      "Requirement already satisfied: outcome in c:\\users\\82102\\anaconda3\\lib\\site-packages (from trio~=0.17->selenium) (1.2.0)\n",
      "Requirement already satisfied: idna in c:\\users\\82102\\anaconda3\\lib\\site-packages (from trio~=0.17->selenium) (3.3)\n",
      "Requirement already satisfied: exceptiongroup>=1.0.0rc9 in c:\\users\\82102\\anaconda3\\lib\\site-packages (from trio~=0.17->selenium) (1.1.1)\n",
      "Requirement already satisfied: sniffio in c:\\users\\82102\\anaconda3\\lib\\site-packages (from trio~=0.17->selenium) (1.2.0)\n",
      "Requirement already satisfied: wsproto>=0.14 in c:\\users\\82102\\anaconda3\\lib\\site-packages (from trio-websocket~=0.9->selenium) (1.2.0)\n",
      "Requirement already satisfied: PySocks!=1.5.7,<2.0,>=1.5.6 in c:\\users\\82102\\anaconda3\\lib\\site-packages (from urllib3[socks]~=1.26->selenium) (1.7.1)\n",
      "Requirement already satisfied: pycparser in c:\\users\\82102\\anaconda3\\lib\\site-packages (from cffi>=1.14->trio~=0.17->selenium) (2.21)\n",
      "Requirement already satisfied: h11<1,>=0.9.0 in c:\\users\\82102\\anaconda3\\lib\\site-packages (from wsproto>=0.14->trio-websocket~=0.9->selenium) (0.14.0)\n"
     ]
    }
   ],
   "source": [
    "!pip install selenium"
   ]
  },
  {
   "cell_type": "code",
   "execution_count": 2,
   "id": "b3727d5e-9d38-4974-a235-5d03ff64b5df",
   "metadata": {},
   "outputs": [
    {
     "name": "stdout",
     "output_type": "stream",
     "text": [
      "4.21.0\n"
     ]
    }
   ],
   "source": [
    "import selenium\n",
    "print(selenium.__version__)"
   ]
  },
  {
   "cell_type": "code",
   "execution_count": 8,
   "id": "ee5830de-be59-49b4-8d61-b84e5ad0c163",
   "metadata": {},
   "outputs": [
    {
     "name": "stdout",
     "output_type": "stream",
     "text": [
      "Google\n"
     ]
    }
   ],
   "source": [
    "from selenium import webdriver\n",
    "\n",
    "# ChromeDriver를 사용하여 WebDriver를 초기화합니다.\n",
    "driver = webdriver.Chrome()\n",
    "\n",
    "# 이제 Selenium 스크립트를 작성하고 사용할 수 있습니다.\n",
    "driver.get(\"https://www.google.com\")\n",
    "print(driver.title)\n",
    "\n",
    "# 브라우저를 닫습니다.\n",
    "driver.quit()\n"
   ]
  },
  {
   "cell_type": "code",
   "execution_count": 14,
   "id": "30adfd1c",
   "metadata": {
    "id": "30adfd1c"
   },
   "outputs": [],
   "source": [
    "from selenium import webdriver\n",
    "import urllib.request\n",
    "from selenium.common.exceptions import NoSuchElementException\n",
    "from selenium import webdriver\n",
    "from selenium.webdriver.common.by import By\n",
    "from webdriver_manager.chrome import ChromeDriverManager\n",
    "import requests\n",
    "from bs4 import BeautifulSoup\n",
    "import os\n",
    "import string\n",
    "import pandas as pd"
   ]
  },
  {
   "cell_type": "code",
   "execution_count": 15,
   "id": "0f492fa7",
   "metadata": {
    "id": "0f492fa7"
   },
   "outputs": [],
   "source": [
    "options = webdriver.ChromeOptions()\n",
    "options.add_experimental_option(\"excludeSwitches\", [\"enable-automation\"])\n",
    "options.add_experimental_option(\"useAutomationExtension\", False)\n",
    "options.add_argument('window-siz=1920x1080')\n",
    "options.headless = True"
   ]
  },
  {
   "cell_type": "code",
   "execution_count": 16,
   "id": "9a7c5fe6-e521-43d5-b858-28472a1a5ba3",
   "metadata": {},
   "outputs": [],
   "source": [
    "service = Service(ChromeDriverManager().install())"
   ]
  },
  {
   "cell_type": "code",
   "execution_count": 17,
   "id": "3ef7276e-b1ea-41db-85ef-091761e9ab00",
   "metadata": {},
   "outputs": [],
   "source": [
    "driver = webdriver.Chrome(service=service, options=options)"
   ]
  },
  {
   "cell_type": "code",
   "execution_count": 18,
   "id": "e97e385c-f3b9-4bfa-98ec-9b87cfa9337e",
   "metadata": {},
   "outputs": [],
   "source": [
    "import time\n",
    "\n",
    "branches = {\n",
    "    '네이버플레이스': 'https://m.place.naver.com/restaurant/1193586093/review/visitor?entry=pll'\n",
    "}\n",
    "\n",
    "all_reviews = []\n",
    "for branch, url in branches.items():\n",
    "    driver.get(url)\n",
    "    time.sleep(10)\n",
    "    for _ in range(5):\n",
    "        driver.execute_script(\"window.scrollTo(0, document.body.scrollHeight);\")\n",
    "        time.sleep(3)\n",
    "\n",
    "    html = driver.page_source\n",
    "    soup = BeautifulSoup(html, 'html.parser')\n",
    "    reviews = soup.find_all('li', {'class': 'owAeM'})\n",
    "    for review in reviews:\n",
    "        username = review.find('span', class_='P9EZi').text if review.find('span', class_='P9EZi') else 'No Username'\n",
    "        content = review.find('span', class_='zPfVt').text if review.find('span', class_='zPfVt') else 'No Content'\n",
    "        date = review.find('time').text if review.find('time') else 'No Date'\n",
    "        all_reviews.append({'Branch': branch, 'Username': username, 'Date': date, 'Review': content})"
   ]
  },
  {
   "cell_type": "code",
   "execution_count": 21,
   "id": "e9ee5e75-1d2e-463c-b0f4-c2a6c8ad94c0",
   "metadata": {},
   "outputs": [
    {
     "data": {
      "text/html": [
       "<div>\n",
       "<style scoped>\n",
       "    .dataframe tbody tr th:only-of-type {\n",
       "        vertical-align: middle;\n",
       "    }\n",
       "\n",
       "    .dataframe tbody tr th {\n",
       "        vertical-align: top;\n",
       "    }\n",
       "\n",
       "    .dataframe thead th {\n",
       "        text-align: right;\n",
       "    }\n",
       "</style>\n",
       "<table border=\"1\" class=\"dataframe\">\n",
       "  <thead>\n",
       "    <tr style=\"text-align: right;\">\n",
       "      <th></th>\n",
       "      <th>Branch</th>\n",
       "      <th>Username</th>\n",
       "      <th>Date</th>\n",
       "      <th>Review</th>\n",
       "    </tr>\n",
       "  </thead>\n",
       "  <tbody>\n",
       "    <tr>\n",
       "      <th>2</th>\n",
       "      <td>네이버플레이스</td>\n",
       "      <td>uhmjiya</td>\n",
       "      <td>5.19.일</td>\n",
       "      <td>한가로운 여유를 즐기기 좋은 폴바셋 국회대로점입니다. 주말엔 사람도 많지 않아요. ...</td>\n",
       "    </tr>\n",
       "    <tr>\n",
       "      <th>3</th>\n",
       "      <td>네이버플레이스</td>\n",
       "      <td>진초</td>\n",
       "      <td>6.4.화</td>\n",
       "      <td>메로나맛 나요ㅋㅋㅋ맛있지만 받자마자 이미 좀 녹아있어서 아쉬워요. 친절하고 가까워서...</td>\n",
       "    </tr>\n",
       "    <tr>\n",
       "      <th>4</th>\n",
       "      <td>네이버플레이스</td>\n",
       "      <td>대방동영덕게</td>\n",
       "      <td>6.2.일</td>\n",
       "      <td>일요일 8시까지입니당\\n말차도 맛있고 멜론 아스쿠림 맛나요</td>\n",
       "    </tr>\n",
       "    <tr>\n",
       "      <th>5</th>\n",
       "      <td>네이버플레이스</td>\n",
       "      <td>H 25</td>\n",
       "      <td>5.18.토</td>\n",
       "      <td>폴바셋 여의도 국회대로점 좋아요^^</td>\n",
       "    </tr>\n",
       "    <tr>\n",
       "      <th>6</th>\n",
       "      <td>네이버플레이스</td>\n",
       "      <td>피노키오151</td>\n",
       "      <td>2.17.토</td>\n",
       "      <td>매장도 넓어서 커피마시기 좋은장소입니다. 커피도 맛이있지만 카페라테는 더욱 부드럽고...</td>\n",
       "    </tr>\n",
       "    <tr>\n",
       "      <th>7</th>\n",
       "      <td>네이버플레이스</td>\n",
       "      <td>나야나8691</td>\n",
       "      <td>5.30.목</td>\n",
       "      <td>분위기 좋고 깔끔한 카페..\\n커피 맛도 좋고\\n음료 맛이 좋다.</td>\n",
       "    </tr>\n",
       "    <tr>\n",
       "      <th>8</th>\n",
       "      <td>네이버플레이스</td>\n",
       "      <td>안냥맹</td>\n",
       "      <td>3.16.토</td>\n",
       "      <td>토요일에 갔더니 여유롭고 좋았어요\\n매장도 넓고 깨끗하고 직원분도 친절하셔요.\\n</td>\n",
       "    </tr>\n",
       "    <tr>\n",
       "      <th>9</th>\n",
       "      <td>네이버플레이스</td>\n",
       "      <td>내보물쭈니</td>\n",
       "      <td>3.16.토</td>\n",
       "      <td>날이 따듯해져서 아이스음료로 충전했네요!다크초코라떼가 달달하고 초코가 진해서 맛있었...</td>\n",
       "    </tr>\n",
       "    <tr>\n",
       "      <th>10</th>\n",
       "      <td>네이버플레이스</td>\n",
       "      <td>옥수수하모니ㅋr</td>\n",
       "      <td>5.4.토</td>\n",
       "      <td>넘 맛있고 직원분들이 친절하세오</td>\n",
       "    </tr>\n",
       "    <tr>\n",
       "      <th>11</th>\n",
       "      <td>네이버플레이스</td>\n",
       "      <td>원더우먼5642</td>\n",
       "      <td>3.24.일</td>\n",
       "      <td>넘 맛나요.\\n굿~~^^</td>\n",
       "    </tr>\n",
       "  </tbody>\n",
       "</table>\n",
       "</div>"
      ],
      "text/plain": [
       "     Branch  Username    Date  \\\n",
       "2   네이버플레이스   uhmjiya  5.19.일   \n",
       "3   네이버플레이스        진초   6.4.화   \n",
       "4   네이버플레이스    대방동영덕게   6.2.일   \n",
       "5   네이버플레이스      H 25  5.18.토   \n",
       "6   네이버플레이스   피노키오151  2.17.토   \n",
       "7   네이버플레이스   나야나8691  5.30.목   \n",
       "8   네이버플레이스       안냥맹  3.16.토   \n",
       "9   네이버플레이스     내보물쭈니  3.16.토   \n",
       "10  네이버플레이스  옥수수하모니ㅋr   5.4.토   \n",
       "11  네이버플레이스  원더우먼5642  3.24.일   \n",
       "\n",
       "                                               Review  \n",
       "2   한가로운 여유를 즐기기 좋은 폴바셋 국회대로점입니다. 주말엔 사람도 많지 않아요. ...  \n",
       "3   메로나맛 나요ㅋㅋㅋ맛있지만 받자마자 이미 좀 녹아있어서 아쉬워요. 친절하고 가까워서...  \n",
       "4                    일요일 8시까지입니당\\n말차도 맛있고 멜론 아스쿠림 맛나요  \n",
       "5                                 폴바셋 여의도 국회대로점 좋아요^^  \n",
       "6   매장도 넓어서 커피마시기 좋은장소입니다. 커피도 맛이있지만 카페라테는 더욱 부드럽고...  \n",
       "7                분위기 좋고 깔끔한 카페..\\n커피 맛도 좋고\\n음료 맛이 좋다.  \n",
       "8       토요일에 갔더니 여유롭고 좋았어요\\n매장도 넓고 깨끗하고 직원분도 친절하셔요.\\n  \n",
       "9   날이 따듯해져서 아이스음료로 충전했네요!다크초코라떼가 달달하고 초코가 진해서 맛있었...  \n",
       "10                                  넘 맛있고 직원분들이 친절하세오  \n",
       "11                                      넘 맛나요.\\n굿~~^^  "
      ]
     },
     "execution_count": 21,
     "metadata": {},
     "output_type": "execute_result"
    }
   ],
   "source": [
    "df"
   ]
  },
  {
   "cell_type": "code",
   "execution_count": 19,
   "id": "28f6c9a0-d90f-4b3f-8b8f-5752940f928b",
   "metadata": {},
   "outputs": [
    {
     "ename": "NameError",
     "evalue": "name 'worksheet' is not defined",
     "output_type": "error",
     "traceback": [
      "\u001b[1;31m---------------------------------------------------------------------------\u001b[0m",
      "\u001b[1;31mNameError\u001b[0m                                 Traceback (most recent call last)",
      "Cell \u001b[1;32mIn[19], line 5\u001b[0m\n\u001b[0;32m      3\u001b[0m df\u001b[38;5;241m.\u001b[39mindex \u001b[38;5;241m+\u001b[39m\u001b[38;5;241m=\u001b[39m \u001b[38;5;241m2\u001b[39m\n\u001b[0;32m      4\u001b[0m \u001b[38;5;28;01mfor\u001b[39;00m index, row \u001b[38;5;129;01min\u001b[39;00m df\u001b[38;5;241m.\u001b[39miterrows():\n\u001b[1;32m----> 5\u001b[0m     worksheet\u001b[38;5;241m.\u001b[39mupdate(\u001b[38;5;124mf\u001b[39m\u001b[38;5;124m'\u001b[39m\u001b[38;5;124mA\u001b[39m\u001b[38;5;132;01m{\u001b[39;00mindex\u001b[38;5;132;01m}\u001b[39;00m\u001b[38;5;124m:D\u001b[39m\u001b[38;5;132;01m{\u001b[39;00mindex\u001b[38;5;132;01m}\u001b[39;00m\u001b[38;5;124m'\u001b[39m, [row\u001b[38;5;241m.\u001b[39mvalues\u001b[38;5;241m.\u001b[39mtolist()])\n",
      "\u001b[1;31mNameError\u001b[0m: name 'worksheet' is not defined"
     ]
    }
   ],
   "source": [
    "driver.quit()\n",
    "df = pd.DataFrame(all_reviews)"
   ]
  },
  {
   "cell_type": "markdown",
   "id": "2fbfacb2",
   "metadata": {
    "id": "2fbfacb2"
   },
   "source": [
    "### 네이버 블로그 영화 일반 리뷰 게시글 링크, 제목, 게시일 추출 -> 기간 설정 옵션 추가"
   ]
  },
  {
   "cell_type": "markdown",
   "id": "d4cc9f00",
   "metadata": {
    "id": "d4cc9f00"
   },
   "source": [
    "### 블로그 게시글 내용 추출 및 데이터프레임 생성 함수"
   ]
  },
  {
   "cell_type": "code",
   "execution_count": null,
   "id": "25297ab0",
   "metadata": {
    "id": "25297ab0"
   },
   "outputs": [],
   "source": [
    "def blog_contents():\n",
    "    # 링크를 다듬기 (필요없는 부분 제거 및 수정)\n",
    "    blog_links = []\n",
    "    for i in link_list:\n",
    "        a = i.replace('\\\\','')\n",
    "        b = a.replace('?Redirect=Log&logNo=','/')\n",
    "        blog_links.append(b)\n",
    "\n",
    "    #본문 크롤링\n",
    "    # 크롬 드라이버 설치\n",
    "    driver = webdriver.Chrome(ChromeDriverManager().install())\n",
    "    driver.implicitly_wait(3)\n",
    "\n",
    "    #블로그 링크 하나씩 불러서 크롤링\n",
    "    contents = []\n",
    "    for i in blog_links:\n",
    "        #블로그 링크 하나씩 불러오기\n",
    "        driver.get(i)\n",
    "        time.sleep(1)\n",
    "        #블로그 안 본문이 있는 iframe에 접근하기\n",
    "        driver.switch_to.frame(\"mainFrame\")\n",
    "        #본문 내용 크롤링하기\n",
    "        try:\n",
    "            a = driver.find_element(By.CSS_SELECTOR,'div.se-main-container').text\n",
    "            contents.append(a)\n",
    "        # NoSuchElement 오류시 예외처리(구버전 블로그에 적용)\n",
    "        except NoSuchElementException:\n",
    "            a = driver.find_element(By.CSS_SELECTOR,'div#content-area').text\n",
    "            contents.append(a)\n",
    "\n",
    "    driver.quit() #창닫기\n",
    "\n",
    "    #제목 및 본문 txt에 저장\n",
    "    total_contents = title_list + contents\n",
    "\n",
    "    text = open(\"blog_text.txt\",'w',encoding='utf-8')\n",
    "    for i in total_contents:\n",
    "        text.write(i)\n",
    "    text.close()\n",
    "\n",
    "    #제목, 블로그링크, 본문내용 Dataframe으로 만들기\n",
    "    df = pd.DataFrame({'제목':title_list, '링크':blog_links,'내용':contents,'게시일':date_list})\n",
    "\n",
    "    return df"
   ]
  },
  {
   "cell_type": "code",
   "execution_count": null,
   "id": "6ca9e75a",
   "metadata": {
    "id": "6ca9e75a",
    "outputId": "fef5cb27-4935-4b7f-b193-4b60e2b511bb"
   },
   "outputs": [
    {
     "name": "stderr",
     "output_type": "stream",
     "text": [
      "C:\\Users\\82102\\AppData\\Local\\Temp\\ipykernel_24024\\2745561852.py:11: DeprecationWarning: executable_path has been deprecated, please pass in a Service object\n",
      "  driver = webdriver.Chrome(ChromeDriverManager().install())\n"
     ]
    },
    {
     "name": "stdout",
     "output_type": "stream",
     "text": [
      "<<본문 크롤링이 완료되었습니다.>>\n"
     ]
    },
    {
     "data": {
      "text/html": [
       "<div>\n",
       "<style scoped>\n",
       "    .dataframe tbody tr th:only-of-type {\n",
       "        vertical-align: middle;\n",
       "    }\n",
       "\n",
       "    .dataframe tbody tr th {\n",
       "        vertical-align: top;\n",
       "    }\n",
       "\n",
       "    .dataframe thead th {\n",
       "        text-align: right;\n",
       "    }\n",
       "</style>\n",
       "<table border=\"1\" class=\"dataframe\">\n",
       "  <thead>\n",
       "    <tr style=\"text-align: right;\">\n",
       "      <th></th>\n",
       "      <th>제목</th>\n",
       "      <th>링크</th>\n",
       "      <th>내용</th>\n",
       "      <th>게시일</th>\n",
       "    </tr>\n",
       "  </thead>\n",
       "  <tbody>\n",
       "    <tr>\n",
       "      <th>0</th>\n",
       "      <td>극장판 애니 ‘스즈메의 문단속’ 리뷰아닌 잡담</td>\n",
       "      <td>https://blog.naver.com/bn881028/223049010636</td>\n",
       "      <td>*신카이 마코토 감독 자체를\\n비판하는 내용이 아니라\\n개인적인 생각으로 리뷰를 썼...</td>\n",
       "      <td>2023. 3. 19.</td>\n",
       "    </tr>\n",
       "    <tr>\n",
       "      <th>1</th>\n",
       "      <td>영화 순위 1위 : 스즈메의 문단속 리뷰 내돈내산 CGV 문화의날</td>\n",
       "      <td>https://blog.naver.com/dlgywjddlaz/223060918663</td>\n",
       "      <td>사실 처음에 스즈메의 문단속 포토존을 12월경에 우연히 마주치고\\n응? 뭐 애니메이...</td>\n",
       "      <td>2023. 3. 31.</td>\n",
       "    </tr>\n",
       "    <tr>\n",
       "      <th>2</th>\n",
       "      <td>스즈메의 문단속 줄거리/리뷰 : 상실과 회복을 일본답게 그려내는 법 (쿠키)</td>\n",
       "      <td>https://blog.naver.com/cavaro910/223060385676</td>\n",
       "      <td>안녕하세요 팬더입니다! 슬램덩크 이후로 처음 영화관에 가서 신카이 마코토 감독의 신...</td>\n",
       "      <td>2023. 3. 30.</td>\n",
       "    </tr>\n",
       "    <tr>\n",
       "      <th>3</th>\n",
       "      <td>홍대 스즈메의 문단속 팝업 카페 리뷰(+굿즈, 위치)</td>\n",
       "      <td>https://blog.naver.com/hearts1012/223066004107</td>\n",
       "      <td>안녕하세요! 핫플탐방러 육하망칙입니다.\\n오늘은 제가 스즈메의 문단속 팝업 카페를 ...</td>\n",
       "      <td>2023. 4. 6.</td>\n",
       "    </tr>\n",
       "    <tr>\n",
       "      <th>4</th>\n",
       "      <td>스즈메의 문단속 리뷰</td>\n",
       "      <td>https://blog.naver.com/yuiroa/223070856201</td>\n",
       "      <td>스즈메의 문단속\\n감독\\n신카이 마코토\\n출연\\n하라 나노카, 마츠무라 호쿠토, 후...</td>\n",
       "      <td>2023. 4. 11.</td>\n",
       "    </tr>\n",
       "    <tr>\n",
       "      <th>...</th>\n",
       "      <td>...</td>\n",
       "      <td>...</td>\n",
       "      <td>...</td>\n",
       "      <td>...</td>\n",
       "    </tr>\n",
       "    <tr>\n",
       "      <th>345</th>\n",
       "      <td>스즈메의 문단속~ 쿠키영상, 스포없음 (리뷰) 김해 부원역 롯데씨네마 후기~</td>\n",
       "      <td>https://blog.naver.com/sumin_1216/223042006633</td>\n",
       "      <td>스즈메의 문단속\\n감독\\n신카이 마코토\\n출연\\n하라 나노카, 마츠무라 호쿠토, 후...</td>\n",
       "      <td>2023. 3. 12.</td>\n",
       "    </tr>\n",
       "    <tr>\n",
       "      <th>346</th>\n",
       "      <td>스즈메의 문단속 리뷰 후기 줄거리</td>\n",
       "      <td>https://blog.naver.com/gametv2022/223053269383</td>\n",
       "      <td>줄거리\\n스즈메가 폐허에 대해 묻는 꽃미남과의 만남을 통해 스즈메의 숨겨진 정체를 ...</td>\n",
       "      <td>2023. 3. 23.</td>\n",
       "    </tr>\n",
       "    <tr>\n",
       "      <th>347</th>\n",
       "      <td>&lt;스즈메의 문단속&gt; 전 세대가 반했다! 10대부터 50대까지 세대별 관람 포인트 대공개!</td>\n",
       "      <td>https://blog.naver.com/sunlin77/223047119178</td>\n",
       "      <td>2023년 개봉작 중 최단기간 100만 관객을 동원한데 이어 연일 박스오피스 1위를...</td>\n",
       "      <td>2023. 3. 17.</td>\n",
       "    </tr>\n",
       "    <tr>\n",
       "      <th>348</th>\n",
       "      <td>[영화]2023년 3월의 영화 : 스즈메의 문단속, 이니셰린의 밴시, 파벨만스</td>\n",
       "      <td>https://blog.naver.com/mizuhashi/223071764296</td>\n",
       "      <td>1분기에는 책을 한달에 8권씩 3달 완성에 성공했다면, 영화는 한달에 3편씩 3달 ...</td>\n",
       "      <td>2023. 4. 11.</td>\n",
       "    </tr>\n",
       "    <tr>\n",
       "      <th>349</th>\n",
       "      <td>댓거리 롯데시네마 프리미엄경남대(리클라이너석) 3관 + 영화 '스즈메의 문단속' 리뷰</td>\n",
       "      <td>https://blog.naver.com/94nan/223067272985</td>\n",
       "      <td>창원 마산 영화관/영화 후기\\n롯데시네마 프리미엄경남대\\n3관\\n마산 덕동에 가포벚...</td>\n",
       "      <td>2023. 4. 7.</td>\n",
       "    </tr>\n",
       "  </tbody>\n",
       "</table>\n",
       "<p>350 rows × 4 columns</p>\n",
       "</div>"
      ],
      "text/plain": [
       "                                                    제목  \\\n",
       "0                            극장판 애니 ‘스즈메의 문단속’ 리뷰아닌 잡담   \n",
       "1                 영화 순위 1위 : 스즈메의 문단속 리뷰 내돈내산 CGV 문화의날   \n",
       "2           스즈메의 문단속 줄거리/리뷰 : 상실과 회복을 일본답게 그려내는 법 (쿠키)   \n",
       "3                        홍대 스즈메의 문단속 팝업 카페 리뷰(+굿즈, 위치)   \n",
       "4                                          스즈메의 문단속 리뷰   \n",
       "..                                                 ...   \n",
       "345         스즈메의 문단속~ 쿠키영상, 스포없음 (리뷰) 김해 부원역 롯데씨네마 후기~   \n",
       "346                                 스즈메의 문단속 리뷰 후기 줄거리   \n",
       "347  <스즈메의 문단속> 전 세대가 반했다! 10대부터 50대까지 세대별 관람 포인트 대공개!   \n",
       "348        [영화]2023년 3월의 영화 : 스즈메의 문단속, 이니셰린의 밴시, 파벨만스   \n",
       "349    댓거리 롯데시네마 프리미엄경남대(리클라이너석) 3관 + 영화 '스즈메의 문단속' 리뷰   \n",
       "\n",
       "                                                  링크  \\\n",
       "0       https://blog.naver.com/bn881028/223049010636   \n",
       "1    https://blog.naver.com/dlgywjddlaz/223060918663   \n",
       "2      https://blog.naver.com/cavaro910/223060385676   \n",
       "3     https://blog.naver.com/hearts1012/223066004107   \n",
       "4         https://blog.naver.com/yuiroa/223070856201   \n",
       "..                                               ...   \n",
       "345   https://blog.naver.com/sumin_1216/223042006633   \n",
       "346   https://blog.naver.com/gametv2022/223053269383   \n",
       "347     https://blog.naver.com/sunlin77/223047119178   \n",
       "348    https://blog.naver.com/mizuhashi/223071764296   \n",
       "349        https://blog.naver.com/94nan/223067272985   \n",
       "\n",
       "                                                    내용           게시일  \n",
       "0    *신카이 마코토 감독 자체를\\n비판하는 내용이 아니라\\n개인적인 생각으로 리뷰를 썼...  2023. 3. 19.  \n",
       "1    사실 처음에 스즈메의 문단속 포토존을 12월경에 우연히 마주치고\\n응? 뭐 애니메이...  2023. 3. 31.  \n",
       "2    안녕하세요 팬더입니다! 슬램덩크 이후로 처음 영화관에 가서 신카이 마코토 감독의 신...  2023. 3. 30.  \n",
       "3    안녕하세요! 핫플탐방러 육하망칙입니다.\\n오늘은 제가 스즈메의 문단속 팝업 카페를 ...   2023. 4. 6.  \n",
       "4    스즈메의 문단속\\n감독\\n신카이 마코토\\n출연\\n하라 나노카, 마츠무라 호쿠토, 후...  2023. 4. 11.  \n",
       "..                                                 ...           ...  \n",
       "345  스즈메의 문단속\\n감독\\n신카이 마코토\\n출연\\n하라 나노카, 마츠무라 호쿠토, 후...  2023. 3. 12.  \n",
       "346  줄거리\\n스즈메가 폐허에 대해 묻는 꽃미남과의 만남을 통해 스즈메의 숨겨진 정체를 ...  2023. 3. 23.  \n",
       "347  2023년 개봉작 중 최단기간 100만 관객을 동원한데 이어 연일 박스오피스 1위를...  2023. 3. 17.  \n",
       "348  1분기에는 책을 한달에 8권씩 3달 완성에 성공했다면, 영화는 한달에 3편씩 3달 ...  2023. 4. 11.  \n",
       "349  창원 마산 영화관/영화 후기\\n롯데시네마 프리미엄경남대\\n3관\\n마산 덕동에 가포벚...   2023. 4. 7.  \n",
       "\n",
       "[350 rows x 4 columns]"
      ]
     },
     "execution_count": 49,
     "metadata": {},
     "output_type": "execute_result"
    }
   ],
   "source": [
    "#일반 리뷰\n",
    "review= blog_contents()\n",
    "review"
   ]
  }
 ],
 "metadata": {
  "accelerator": "GPU",
  "colab": {
   "gpuType": "T4",
   "provenance": []
  },
  "kernelspec": {
   "display_name": "Python 3 (ipykernel)",
   "language": "python",
   "name": "python3"
  },
  "language_info": {
   "codemirror_mode": {
    "name": "ipython",
    "version": 3
   },
   "file_extension": ".py",
   "mimetype": "text/x-python",
   "name": "python",
   "nbconvert_exporter": "python",
   "pygments_lexer": "ipython3",
   "version": "3.11.7"
  }
 },
 "nbformat": 4,
 "nbformat_minor": 5
}
