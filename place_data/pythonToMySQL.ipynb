{
 "cells": [
  {
   "cell_type": "code",
   "execution_count": null,
   "id": "eed776e7-ee30-481a-867c-3f0d81df1717",
   "metadata": {},
   "outputs": [],
   "source": [
    "conn = mysql.connector.connect(\n",
    "    host='52.79.103.108',         # MySQL 서버 주소 (예: 'localhost')\n",
    "    user='root',     # MySQL 사용자 이름\n",
    "    password='ee62849406', # MySQL 비밀번호\n",
    "    database='drivel'  # 사용할 데이터베이스 이름\n",
    ")\n",
    "cursor = conn.cursor()\n",
    "\n",
    "# 테이블 생성 (이미 존재할 경우 생략)\n",
    "cursor.execute('''\n",
    "CREATE TABLE IF NOT EXISTS tour_spot (\n",
    "    id INT AUTO_INCREMENT PRIMARY KEY,\n",
    "    title VARCHAR(255),\n",
    "    address VARCHAR(255),\n",
    "    firstimage TEXT,\n",
    "    secondimage TEXT,\n",
    "    longtitude DOUBLE,\n",
    "    latitude DOUBLE\n",
    ")\n",
    "''')\n",
    "\n",
    "# 데이터 삽입\n",
    "for _, row in df.iterrows():\n",
    "    cursor.execute('''\n",
    "    INSERT INTO tour_spot (title, address, firstimage, secondimage, longtitude, latitude)\n",
    "    VALUES (%s, %s, %s, %s, %s, %s)\n",
    "    ''', (row['Title'], row['Address'], row['firstimage'], row['secondimage'], row['longtitude'], row['latitude']))\n",
    "\n",
    "# 커밋 및 연결 종료\n",
    "conn.commit()\n",
    "cursor.close()\n",
    "conn.close()"
   ]
  }
 ],
 "metadata": {
  "kernelspec": {
   "display_name": "Python 3 (ipykernel)",
   "language": "python",
   "name": "python3"
  },
  "language_info": {
   "codemirror_mode": {
    "name": "ipython",
    "version": 3
   },
   "file_extension": ".py",
   "mimetype": "text/x-python",
   "name": "python",
   "nbconvert_exporter": "python",
   "pygments_lexer": "ipython3",
   "version": "3.11.7"
  }
 },
 "nbformat": 4,
 "nbformat_minor": 5
}
