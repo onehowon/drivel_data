{
 "cells": [
  {
   "cell_type": "code",
   "execution_count": 1,
   "id": "ecf0924e-6846-4730-9492-edeffa869a1d",
   "metadata": {},
   "outputs": [
    {
     "ename": "KeyboardInterrupt",
     "evalue": "",
     "output_type": "error",
     "traceback": [
      "\u001b[1;31m---------------------------------------------------------------------------\u001b[0m",
      "\u001b[1;31mKeyboardInterrupt\u001b[0m                         Traceback (most recent call last)",
      "Cell \u001b[1;32mIn[1], line 36\u001b[0m\n\u001b[0;32m     32\u001b[0m     more_button \u001b[38;5;241m=\u001b[39m WebDriverWait(driver, \u001b[38;5;241m10\u001b[39m)\u001b[38;5;241m.\u001b[39muntil(\n\u001b[0;32m     33\u001b[0m         EC\u001b[38;5;241m.\u001b[39melement_to_be_clickable((By\u001b[38;5;241m.\u001b[39mCLASS_NAME, \u001b[38;5;124m'\u001b[39m\u001b[38;5;124mfvwqf\u001b[39m\u001b[38;5;124m'\u001b[39m))\n\u001b[0;32m     34\u001b[0m     )\n\u001b[0;32m     35\u001b[0m     more_button\u001b[38;5;241m.\u001b[39mclick()\n\u001b[1;32m---> 36\u001b[0m     time\u001b[38;5;241m.\u001b[39msleep(\u001b[38;5;241m2\u001b[39m)  \u001b[38;5;66;03m# 페이지가 로드될 시간을 줌\u001b[39;00m\n\u001b[0;32m     37\u001b[0m     attempts \u001b[38;5;241m+\u001b[39m\u001b[38;5;241m=\u001b[39m \u001b[38;5;241m1\u001b[39m\n\u001b[0;32m     38\u001b[0m \u001b[38;5;28;01mexcept\u001b[39;00m \u001b[38;5;167;01mException\u001b[39;00m \u001b[38;5;28;01mas\u001b[39;00m e:\n",
      "\u001b[1;31mKeyboardInterrupt\u001b[0m: "
     ]
    }
   ],
   "source": [
    "from selenium import webdriver\n",
    "from selenium.webdriver.chrome.service import Service\n",
    "from selenium.webdriver.common.by import By\n",
    "from selenium.webdriver.support.ui import WebDriverWait\n",
    "from selenium.webdriver.support import expected_conditions as EC\n",
    "from webdriver_manager.chrome import ChromeDriverManager\n",
    "from bs4 import BeautifulSoup\n",
    "import time\n",
    "import pandas as pd\n",
    "\n",
    "# WebDriver 설정\n",
    "service = Service(ChromeDriverManager().install())\n",
    "driver = webdriver.Chrome(service=service)\n",
    "\n",
    "branches = {\n",
    "    'Branch1': 'https://m.place.naver.com/restaurant/1193586093/review/visitor?entry=pll',\n",
    "    'Branch2': 'https://m.place.naver.com/restaurant/1193586094/review/visitor?entry=pll',\n",
    "}\n",
    "\n",
    "all_reviews = []\n",
    "\n",
    "for branch, url in branches.items():\n",
    "    driver.get(url)\n",
    "    time.sleep(5)\n",
    "\n",
    "    # \"더보기\" 버튼을 클릭하는 작업을 반복 (최대 시도 횟수 설정)\n",
    "    max_attempts = 100  # 최대 100번 시도 (필요에 따라 조정 가능)\n",
    "    attempts = 0\n",
    "    while attempts < max_attempts:\n",
    "        try:\n",
    "            # \"더보기\" 버튼이 나타날 때까지 기다림\n",
    "            more_button = WebDriverWait(driver, 10).until(\n",
    "                EC.element_to_be_clickable((By.CLASS_NAME, 'fvwqf'))\n",
    "            )\n",
    "            more_button.click()\n",
    "            time.sleep(2)  # 페이지가 로드될 시간을 줌\n",
    "            attempts += 1\n",
    "        except Exception as e:\n",
    "            print(f\"{branch} 더보기 버튼을 찾을 수 없습니다. 더 이상 리뷰가 없을 수 있습니다.\")\n",
    "            break\n",
    "\n",
    "    # 페이지 소스를 가져와서 BeautifulSoup로 파싱\n",
    "    html = driver.page_source\n",
    "    soup = BeautifulSoup(html, 'html.parser')\n",
    "    reviews = soup.find_all('li', {'class': 'owAeM'})  # 리뷰 항목의 클래스 이름\n",
    "\n",
    "    for review in reviews:\n",
    "        username = review.find('span', class_='P9EZi').text if review.find('span', class_='P9EZi') else 'No Username'\n",
    "        content = review.find('span', class_='zPfVt').text if review.find('span', class_='zPfVt') else 'No Content'\n",
    "        date = review.find('time').text if review.find('time') else 'No Date'\n",
    "        all_reviews.append({'Branch': branch, 'Username': username, 'Date': date, 'Review': content})\n",
    "\n",
    "driver.quit()\n",
    "\n",
    "# 수집된 리뷰를 DataFrame으로 변환 후 CSV 파일로 저장\n",
    "df = pd.DataFrame(all_reviews)\n",
    "df.to_csv('all_reviews.csv', index=False)\n",
    "\n",
    "print(\"리뷰 크롤링 완료. CSV 파일로 저장되었습니다.\")\n"
   ]
  }
 ],
 "metadata": {
  "kernelspec": {
   "display_name": "Python 3 (ipykernel)",
   "language": "python",
   "name": "python3"
  },
  "language_info": {
   "codemirror_mode": {
    "name": "ipython",
    "version": 3
   },
   "file_extension": ".py",
   "mimetype": "text/x-python",
   "name": "python",
   "nbconvert_exporter": "python",
   "pygments_lexer": "ipython3",
   "version": "3.11.7"
  }
 },
 "nbformat": 4,
 "nbformat_minor": 5
}
