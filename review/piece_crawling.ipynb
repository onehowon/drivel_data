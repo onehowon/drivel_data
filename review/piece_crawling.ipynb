{
 "cells": [
  {
   "cell_type": "code",
   "execution_count": 22,
   "id": "4d991d27-fe1f-43a3-a3d6-563bfbd361e2",
   "metadata": {},
   "outputs": [
    {
     "name": "stdout",
     "output_type": "stream",
     "text": [
      "                                              Review\n",
      "0  [💎맛집추천]_양주맛집 France 미슐랭스타 VIEW66 뷰66 Maneku . ...\n",
      "1  음식이 깔끔하고 맛있습니다 서비스로 주신 불초밥도 맛있었어요 가족모임으로 왔는데 나...\n",
      "리뷰 수집 및 파일 저장이 완료되었습니다.\n"
     ]
    },
    {
     "ename": "WebDriverException",
     "evalue": "Message: unknown error: cannot deserialize the result value received from Runtime.callFunctionOn\n  (Session info: chrome=126.0.6478.127)\nStacktrace:\n\tGetHandleVerifier [0x0102C1C3+27395]\n\t(No symbol) [0x00FC3DC4]\n\t(No symbol) [0x00EC1B7F]\n\t(No symbol) [0x00EC6C7F]\n\t(No symbol) [0x00EC88F8]\n\t(No symbol) [0x00EC8970]\n\t(No symbol) [0x00EFDD91]\n\t(No symbol) [0x00F2399C]\n\t(No symbol) [0x00EF8C15]\n\t(No symbol) [0x00F23C34]\n\t(No symbol) [0x00F3CB24]\n\t(No symbol) [0x00F23736]\n\t(No symbol) [0x00EF7541]\n\t(No symbol) [0x00EF80BD]\n\tGetHandleVerifier [0x012E3A93+2876371]\n\tGetHandleVerifier [0x01337F5D+3221661]\n\tGetHandleVerifier [0x010AD634+556916]\n\tGetHandleVerifier [0x010B474C+585868]\n\t(No symbol) [0x00FCCE04]\n\t(No symbol) [0x00FC9818]\n\t(No symbol) [0x00FC99B7]\n\t(No symbol) [0x00FBBF0E]\n\tBaseThreadInitThunk [0x77267BA9+25]\n\tRtlInitializeExceptionChain [0x77ADC10B+107]\n\tRtlClearBits [0x77ADC08F+191]\n",
     "output_type": "error",
     "traceback": [
      "\u001b[1;31m---------------------------------------------------------------------------\u001b[0m",
      "\u001b[1;31mWebDriverException\u001b[0m                        Traceback (most recent call last)",
      "Cell \u001b[1;32mIn[22], line 30\u001b[0m\n\u001b[0;32m     26\u001b[0m reviews \u001b[38;5;241m=\u001b[39m WebDriverWait(driver, \u001b[38;5;241m10\u001b[39m)\u001b[38;5;241m.\u001b[39muntil(\n\u001b[0;32m     27\u001b[0m     EC\u001b[38;5;241m.\u001b[39mpresence_of_all_elements_located((By\u001b[38;5;241m.\u001b[39mCSS_SELECTOR, \u001b[38;5;124m\"\u001b[39m\u001b[38;5;124mspan.zPfVt\u001b[39m\u001b[38;5;124m\"\u001b[39m))\n\u001b[0;32m     28\u001b[0m )\n\u001b[0;32m     29\u001b[0m \u001b[38;5;28;01mfor\u001b[39;00m review \u001b[38;5;129;01min\u001b[39;00m reviews:\n\u001b[1;32m---> 30\u001b[0m     results\u001b[38;5;241m.\u001b[39mappend(review\u001b[38;5;241m.\u001b[39mtext)\n\u001b[0;32m     31\u001b[0m     reviews_collected \u001b[38;5;241m+\u001b[39m\u001b[38;5;241m=\u001b[39m \u001b[38;5;241m1\u001b[39m\n\u001b[0;32m     32\u001b[0m     \u001b[38;5;28;01mif\u001b[39;00m reviews_collected \u001b[38;5;241m>\u001b[39m\u001b[38;5;241m=\u001b[39m \u001b[38;5;241m100\u001b[39m:\n",
      "File \u001b[1;32m~\\anaconda3\\Lib\\site-packages\\selenium\\webdriver\\remote\\webelement.py:90\u001b[0m, in \u001b[0;36mWebElement.text\u001b[1;34m(self)\u001b[0m\n\u001b[0;32m     87\u001b[0m \u001b[38;5;129m@property\u001b[39m\n\u001b[0;32m     88\u001b[0m \u001b[38;5;28;01mdef\u001b[39;00m \u001b[38;5;21mtext\u001b[39m(\u001b[38;5;28mself\u001b[39m) \u001b[38;5;241m-\u001b[39m\u001b[38;5;241m>\u001b[39m \u001b[38;5;28mstr\u001b[39m:\n\u001b[0;32m     89\u001b[0m \u001b[38;5;250m    \u001b[39m\u001b[38;5;124;03m\"\"\"The text of the element.\"\"\"\u001b[39;00m\n\u001b[1;32m---> 90\u001b[0m     \u001b[38;5;28;01mreturn\u001b[39;00m \u001b[38;5;28mself\u001b[39m\u001b[38;5;241m.\u001b[39m_execute(Command\u001b[38;5;241m.\u001b[39mGET_ELEMENT_TEXT)[\u001b[38;5;124m\"\u001b[39m\u001b[38;5;124mvalue\u001b[39m\u001b[38;5;124m\"\u001b[39m]\n",
      "File \u001b[1;32m~\\anaconda3\\Lib\\site-packages\\selenium\\webdriver\\remote\\webelement.py:395\u001b[0m, in \u001b[0;36mWebElement._execute\u001b[1;34m(self, command, params)\u001b[0m\n\u001b[0;32m    393\u001b[0m     params \u001b[38;5;241m=\u001b[39m {}\n\u001b[0;32m    394\u001b[0m params[\u001b[38;5;124m\"\u001b[39m\u001b[38;5;124mid\u001b[39m\u001b[38;5;124m\"\u001b[39m] \u001b[38;5;241m=\u001b[39m \u001b[38;5;28mself\u001b[39m\u001b[38;5;241m.\u001b[39m_id\n\u001b[1;32m--> 395\u001b[0m \u001b[38;5;28;01mreturn\u001b[39;00m \u001b[38;5;28mself\u001b[39m\u001b[38;5;241m.\u001b[39m_parent\u001b[38;5;241m.\u001b[39mexecute(command, params)\n",
      "File \u001b[1;32m~\\anaconda3\\Lib\\site-packages\\selenium\\webdriver\\remote\\webdriver.py:347\u001b[0m, in \u001b[0;36mWebDriver.execute\u001b[1;34m(self, driver_command, params)\u001b[0m\n\u001b[0;32m    345\u001b[0m response \u001b[38;5;241m=\u001b[39m \u001b[38;5;28mself\u001b[39m\u001b[38;5;241m.\u001b[39mcommand_executor\u001b[38;5;241m.\u001b[39mexecute(driver_command, params)\n\u001b[0;32m    346\u001b[0m \u001b[38;5;28;01mif\u001b[39;00m response:\n\u001b[1;32m--> 347\u001b[0m     \u001b[38;5;28mself\u001b[39m\u001b[38;5;241m.\u001b[39merror_handler\u001b[38;5;241m.\u001b[39mcheck_response(response)\n\u001b[0;32m    348\u001b[0m     response[\u001b[38;5;124m\"\u001b[39m\u001b[38;5;124mvalue\u001b[39m\u001b[38;5;124m\"\u001b[39m] \u001b[38;5;241m=\u001b[39m \u001b[38;5;28mself\u001b[39m\u001b[38;5;241m.\u001b[39m_unwrap_value(response\u001b[38;5;241m.\u001b[39mget(\u001b[38;5;124m\"\u001b[39m\u001b[38;5;124mvalue\u001b[39m\u001b[38;5;124m\"\u001b[39m, \u001b[38;5;28;01mNone\u001b[39;00m))\n\u001b[0;32m    349\u001b[0m     \u001b[38;5;28;01mreturn\u001b[39;00m response\n",
      "File \u001b[1;32m~\\anaconda3\\Lib\\site-packages\\selenium\\webdriver\\remote\\errorhandler.py:229\u001b[0m, in \u001b[0;36mErrorHandler.check_response\u001b[1;34m(self, response)\u001b[0m\n\u001b[0;32m    227\u001b[0m         alert_text \u001b[38;5;241m=\u001b[39m value[\u001b[38;5;124m\"\u001b[39m\u001b[38;5;124malert\u001b[39m\u001b[38;5;124m\"\u001b[39m]\u001b[38;5;241m.\u001b[39mget(\u001b[38;5;124m\"\u001b[39m\u001b[38;5;124mtext\u001b[39m\u001b[38;5;124m\"\u001b[39m)\n\u001b[0;32m    228\u001b[0m     \u001b[38;5;28;01mraise\u001b[39;00m exception_class(message, screen, stacktrace, alert_text)  \u001b[38;5;66;03m# type: ignore[call-arg]  # mypy is not smart enough here\u001b[39;00m\n\u001b[1;32m--> 229\u001b[0m \u001b[38;5;28;01mraise\u001b[39;00m exception_class(message, screen, stacktrace)\n",
      "\u001b[1;31mWebDriverException\u001b[0m: Message: unknown error: cannot deserialize the result value received from Runtime.callFunctionOn\n  (Session info: chrome=126.0.6478.127)\nStacktrace:\n\tGetHandleVerifier [0x0102C1C3+27395]\n\t(No symbol) [0x00FC3DC4]\n\t(No symbol) [0x00EC1B7F]\n\t(No symbol) [0x00EC6C7F]\n\t(No symbol) [0x00EC88F8]\n\t(No symbol) [0x00EC8970]\n\t(No symbol) [0x00EFDD91]\n\t(No symbol) [0x00F2399C]\n\t(No symbol) [0x00EF8C15]\n\t(No symbol) [0x00F23C34]\n\t(No symbol) [0x00F3CB24]\n\t(No symbol) [0x00F23736]\n\t(No symbol) [0x00EF7541]\n\t(No symbol) [0x00EF80BD]\n\tGetHandleVerifier [0x012E3A93+2876371]\n\tGetHandleVerifier [0x01337F5D+3221661]\n\tGetHandleVerifier [0x010AD634+556916]\n\tGetHandleVerifier [0x010B474C+585868]\n\t(No symbol) [0x00FCCE04]\n\t(No symbol) [0x00FC9818]\n\t(No symbol) [0x00FC99B7]\n\t(No symbol) [0x00FBBF0E]\n\tBaseThreadInitThunk [0x77267BA9+25]\n\tRtlInitializeExceptionChain [0x77ADC10B+107]\n\tRtlClearBits [0x77ADC08F+191]\n"
     ]
    }
   ],
   "source": [
    "import pandas as pd\n",
    "from selenium import webdriver\n",
    "from selenium.webdriver.common.by import By\n",
    "from selenium.webdriver.support.ui import WebDriverWait\n",
    "from selenium.webdriver.support import expected_conditions as EC\n",
    "from webdriver_manager.chrome import ChromeDriverManager\n",
    "import time\n",
    "\n",
    "# ChromeDriver 설정\n",
    "options = webdriver.ChromeOptions()\n",
    "options.add_argument('--no-sandbox')\n",
    "options.add_argument('--disable-dev-shm-usage')\n",
    "driver = webdriver.Chrome(service=Service(ChromeDriverManager().install()), options=options)\n",
    "\n",
    "# 지정한 URL로 이동\n",
    "url = 'https://m.place.naver.com/restaurant/1496600759/review/visitor?entry=plt'\n",
    "driver.get(url)\n",
    "\n",
    "# 결과를 저장할 리스트 생성\n",
    "results = []\n",
    "\n",
    "try:\n",
    "    reviews_collected = 0\n",
    "    while reviews_collected < 100:\n",
    "        # 리뷰 텍스트 추출\n",
    "        reviews = WebDriverWait(driver, 10).until(\n",
    "            EC.presence_of_all_elements_located((By.CSS_SELECTOR, \"span.zPfVt\"))\n",
    "        )\n",
    "        for review in reviews:\n",
    "            results.append(review.text)\n",
    "            reviews_collected += 1\n",
    "            if reviews_collected >= 100:\n",
    "                break\n",
    "\n",
    "        # \"더보기\" 버튼 클릭\n",
    "        try:\n",
    "            more_button = WebDriverWait(driver, 5).until(\n",
    "                EC.element_to_be_clickable((By.CSS_SELECTOR, \"a.fvwqf\"))\n",
    "            )\n",
    "            driver.execute_script(\"arguments[0].click();\", more_button)\n",
    "            time.sleep(2)  # 클릭 후 대기 시간\n",
    "        except:\n",
    "            print(\"더 이상 '더보기' 버튼이 없습니다.\")\n",
    "            break\n",
    "\n",
    "finally:\n",
    "    # 데이터프레임 생성 및 출력\n",
    "    df_reviews = pd.DataFrame(results, columns=['Review'])\n",
    "    print(df_reviews)\n",
    "\n",
    "    # 결과를 CSV 파일로 저장\n",
    "    df_reviews.to_csv('collected_reviews.csv', index=False, encoding='utf-8')\n",
    "\n",
    "    # 브라우저 닫기\n",
    "    driver.quit()\n",
    "\n",
    "    print(\"리뷰 수집 및 파일 저장이 완료되었습니다.\")\n"
   ]
  },
  {
   "cell_type": "code",
   "execution_count": null,
   "id": "4dbdcf21-8c01-4edf-bbb7-ed4f57820657",
   "metadata": {},
   "outputs": [],
   "source": []
  }
 ],
 "metadata": {
  "kernelspec": {
   "display_name": "Python 3 (ipykernel)",
   "language": "python",
   "name": "python3"
  },
  "language_info": {
   "codemirror_mode": {
    "name": "ipython",
    "version": 3
   },
   "file_extension": ".py",
   "mimetype": "text/x-python",
   "name": "python",
   "nbconvert_exporter": "python",
   "pygments_lexer": "ipython3",
   "version": "3.11.7"
  }
 },
 "nbformat": 4,
 "nbformat_minor": 5
}
