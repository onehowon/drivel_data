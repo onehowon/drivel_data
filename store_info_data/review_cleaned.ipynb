{
 "cells": [
  {
   "cell_type": "code",
   "execution_count": 1,
   "id": "0f9219f8-28ca-4264-b226-3afd06aad5fc",
   "metadata": {},
   "outputs": [],
   "source": [
    "from selenium import webdriver\n",
    "import urllib.request\n",
    "from selenium.common.exceptions import NoSuchElementException\n",
    "from selenium import webdriver\n",
    "from selenium.webdriver.common.by import By\n",
    "from webdriver_manager.chrome import ChromeDriverManager\n",
    "import requests\n",
    "from bs4 import BeautifulSoup\n",
    "import os\n",
    "import string\n",
    "import pandas as pd\n",
    "from selenium.webdriver.chrome.service import Service"
   ]
  },
  {
   "cell_type": "code",
   "execution_count": 2,
   "id": "b5feefbf-0bdd-4a3c-96e9-6471f7c2b1be",
   "metadata": {},
   "outputs": [],
   "source": [
    "df = pd.read_csv(\"review.csv\")"
   ]
  },
  {
   "cell_type": "code",
   "execution_count": 8,
   "id": "99e653bf-29e1-4c6a-a0f1-1fc934985d19",
   "metadata": {},
   "outputs": [
    {
     "data": {
      "text/html": [
       "<div>\n",
       "<style scoped>\n",
       "    .dataframe tbody tr th:only-of-type {\n",
       "        vertical-align: middle;\n",
       "    }\n",
       "\n",
       "    .dataframe tbody tr th {\n",
       "        vertical-align: top;\n",
       "    }\n",
       "\n",
       "    .dataframe thead th {\n",
       "        text-align: right;\n",
       "    }\n",
       "</style>\n",
       "<table border=\"1\" class=\"dataframe\">\n",
       "  <thead>\n",
       "    <tr style=\"text-align: right;\">\n",
       "      <th></th>\n",
       "      <th>Branch</th>\n",
       "      <th>Username</th>\n",
       "      <th>Date</th>\n",
       "      <th>Review</th>\n",
       "    </tr>\n",
       "  </thead>\n",
       "  <tbody>\n",
       "    <tr>\n",
       "      <th>0</th>\n",
       "      <td>네이버플레이스</td>\n",
       "      <td>uhmjiya</td>\n",
       "      <td>5.19.일</td>\n",
       "      <td>한가로운 여유를 즐기기 좋은 폴바셋 국회대로점입니다. 주말엔 사람도 많지 않아요. ...</td>\n",
       "    </tr>\n",
       "    <tr>\n",
       "      <th>1</th>\n",
       "      <td>네이버플레이스</td>\n",
       "      <td>진초</td>\n",
       "      <td>6.4.화</td>\n",
       "      <td>메로나맛 나요ㅋㅋㅋ맛있지만 받자마자 이미 좀 녹아있어서 아쉬워요. 친절하고 가까워서...</td>\n",
       "    </tr>\n",
       "    <tr>\n",
       "      <th>2</th>\n",
       "      <td>네이버플레이스</td>\n",
       "      <td>대방동영덕게</td>\n",
       "      <td>6.2.일</td>\n",
       "      <td>일요일 8시까지입니당\\n말차도 맛있고 멜론 아스쿠림 맛나요</td>\n",
       "    </tr>\n",
       "    <tr>\n",
       "      <th>3</th>\n",
       "      <td>네이버플레이스</td>\n",
       "      <td>H 25</td>\n",
       "      <td>5.18.토</td>\n",
       "      <td>폴바셋 여의도 국회대로점 좋아요^^</td>\n",
       "    </tr>\n",
       "    <tr>\n",
       "      <th>4</th>\n",
       "      <td>네이버플레이스</td>\n",
       "      <td>피노키오151</td>\n",
       "      <td>2.17.토</td>\n",
       "      <td>매장도 넓어서 커피마시기 좋은장소입니다. 커피도 맛이있지만 카페라테는 더욱 부드럽고...</td>\n",
       "    </tr>\n",
       "    <tr>\n",
       "      <th>5</th>\n",
       "      <td>네이버플레이스</td>\n",
       "      <td>나야나8691</td>\n",
       "      <td>5.30.목</td>\n",
       "      <td>분위기 좋고 깔끔한 카페..\\n커피 맛도 좋고\\n음료 맛이 좋다.</td>\n",
       "    </tr>\n",
       "    <tr>\n",
       "      <th>6</th>\n",
       "      <td>네이버플레이스</td>\n",
       "      <td>안냥맹</td>\n",
       "      <td>3.16.토</td>\n",
       "      <td>토요일에 갔더니 여유롭고 좋았어요\\n매장도 넓고 깨끗하고 직원분도 친절하셔요.\\n</td>\n",
       "    </tr>\n",
       "    <tr>\n",
       "      <th>7</th>\n",
       "      <td>네이버플레이스</td>\n",
       "      <td>내보물쭈니</td>\n",
       "      <td>3.16.토</td>\n",
       "      <td>날이 따듯해져서 아이스음료로 충전했네요!다크초코라떼가 달달하고 초코가 진해서 맛있었...</td>\n",
       "    </tr>\n",
       "    <tr>\n",
       "      <th>8</th>\n",
       "      <td>네이버플레이스</td>\n",
       "      <td>옥수수하모니ㅋr</td>\n",
       "      <td>5.4.토</td>\n",
       "      <td>넘 맛있고 직원분들이 친절하세오</td>\n",
       "    </tr>\n",
       "    <tr>\n",
       "      <th>9</th>\n",
       "      <td>네이버플레이스</td>\n",
       "      <td>원더우먼5642</td>\n",
       "      <td>3.24.일</td>\n",
       "      <td>넘 맛나요.\\n굿~~^^</td>\n",
       "    </tr>\n",
       "  </tbody>\n",
       "</table>\n",
       "</div>"
      ],
      "text/plain": [
       "    Branch  Username    Date  \\\n",
       "0  네이버플레이스   uhmjiya  5.19.일   \n",
       "1  네이버플레이스        진초   6.4.화   \n",
       "2  네이버플레이스    대방동영덕게   6.2.일   \n",
       "3  네이버플레이스      H 25  5.18.토   \n",
       "4  네이버플레이스   피노키오151  2.17.토   \n",
       "5  네이버플레이스   나야나8691  5.30.목   \n",
       "6  네이버플레이스       안냥맹  3.16.토   \n",
       "7  네이버플레이스     내보물쭈니  3.16.토   \n",
       "8  네이버플레이스  옥수수하모니ㅋr   5.4.토   \n",
       "9  네이버플레이스  원더우먼5642  3.24.일   \n",
       "\n",
       "                                              Review  \n",
       "0  한가로운 여유를 즐기기 좋은 폴바셋 국회대로점입니다. 주말엔 사람도 많지 않아요. ...  \n",
       "1  메로나맛 나요ㅋㅋㅋ맛있지만 받자마자 이미 좀 녹아있어서 아쉬워요. 친절하고 가까워서...  \n",
       "2                   일요일 8시까지입니당\\n말차도 맛있고 멜론 아스쿠림 맛나요  \n",
       "3                                폴바셋 여의도 국회대로점 좋아요^^  \n",
       "4  매장도 넓어서 커피마시기 좋은장소입니다. 커피도 맛이있지만 카페라테는 더욱 부드럽고...  \n",
       "5               분위기 좋고 깔끔한 카페..\\n커피 맛도 좋고\\n음료 맛이 좋다.  \n",
       "6      토요일에 갔더니 여유롭고 좋았어요\\n매장도 넓고 깨끗하고 직원분도 친절하셔요.\\n  \n",
       "7  날이 따듯해져서 아이스음료로 충전했네요!다크초코라떼가 달달하고 초코가 진해서 맛있었...  \n",
       "8                                  넘 맛있고 직원분들이 친절하세오  \n",
       "9                                      넘 맛나요.\\n굿~~^^  "
      ]
     },
     "execution_count": 8,
     "metadata": {},
     "output_type": "execute_result"
    }
   ],
   "source": [
    "df"
   ]
  },
  {
   "cell_type": "code",
   "execution_count": 9,
   "id": "8660c412-1725-452e-9be0-c8a868e7ed5b",
   "metadata": {},
   "outputs": [
    {
     "name": "stdout",
     "output_type": "stream",
     "text": [
      "데이터 프레임의 행 수: 10\n"
     ]
    }
   ],
   "source": [
    "num_rows = df.shape[0]\n",
    "print(f\"데이터 프레임의 행 수: {num_rows}\")"
   ]
  },
  {
   "cell_type": "code",
   "execution_count": 6,
   "id": "095818ff-8f70-47d5-89b4-13d6068a18c2",
   "metadata": {},
   "outputs": [
    {
     "ename": "TypeError",
     "evalue": "'tuple' object is not callable",
     "output_type": "error",
     "traceback": [
      "\u001b[1;31m---------------------------------------------------------------------------\u001b[0m",
      "\u001b[1;31mTypeError\u001b[0m                                 Traceback (most recent call last)",
      "Cell \u001b[1;32mIn[6], line 1\u001b[0m\n\u001b[1;32m----> 1\u001b[0m df\u001b[38;5;241m.\u001b[39mshape()\n",
      "\u001b[1;31mTypeError\u001b[0m: 'tuple' object is not callable"
     ]
    }
   ],
   "source": [
    "df.shape()"
   ]
  }
 ],
 "metadata": {
  "kernelspec": {
   "display_name": "Python 3 (ipykernel)",
   "language": "python",
   "name": "python3"
  },
  "language_info": {
   "codemirror_mode": {
    "name": "ipython",
    "version": 3
   },
   "file_extension": ".py",
   "mimetype": "text/x-python",
   "name": "python",
   "nbconvert_exporter": "python",
   "pygments_lexer": "ipython3",
   "version": "3.11.7"
  }
 },
 "nbformat": 4,
 "nbformat_minor": 5
}
